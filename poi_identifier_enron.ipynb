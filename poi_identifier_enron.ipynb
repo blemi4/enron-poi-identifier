{
 "cells": [
  {
   "cell_type": "markdown",
   "metadata": {},
   "source": [
    "## Enron Person of Interest Identifier\n",
    "The goal of this project is to create a machine learning model to predict whether or not a person in the Enron dataset is a person of interest (POI) to the US Justice Department from the Enron corporate fraud case. "
   ]
  },
  {
   "cell_type": "markdown",
   "metadata": {},
   "source": [
    "### Preliminary step: Load helper functions into the notebook\n",
    "More indepth descriptions on what these functions do can be found below.  These functions were obtained from udacity.com."
   ]
  },
  {
   "cell_type": "code",
   "execution_count": 42,
   "metadata": {
    "collapsed": false
   },
   "outputs": [],
   "source": [
    "\"\"\" \n",
    "    A general tool for converting data from the\n",
    "    dictionary format to an (n x k) python list that's \n",
    "    ready for training an sklearn algorithm\n",
    "\n",
    "    n--no. of key-value pairs in dictonary\n",
    "    k--no. of features being extracted\n",
    "\n",
    "    dictionary keys are names of persons in dataset\n",
    "    dictionary values are dictionaries, where each\n",
    "        key-value pair in the dict is the name\n",
    "        of a feature, and its value for that person\n",
    "\n",
    "    In addition to converting the dictionary to a numpy \n",
    "    array, I will separate the labels from the\n",
    "    features--this is what targetFeatureSplit is for\n",
    "\n",
    "    because I want to have the poi label as the target,\n",
    "    and the features I want to use are the person's\n",
    "    salary and bonus, here's what I'll do:\n",
    "\n",
    "    feature_list = [\"poi\", \"salary\", \"bonus\"] \n",
    "    data_array = featureFormat( data_dictionary, feature_list )\n",
    "    label, features = targetFeatureSplit(data_array)\n",
    "\n",
    "    the line above (targetFeatureSplit) assumes that the\n",
    "    label is the _first_ item in feature_list--very important\n",
    "    that poi is listed first!\n",
    "\"\"\"\n",
    "\n",
    "\n",
    "\n",
    "\n",
    "import numpy as np\n",
    "\n",
    "def featureFormat( dictionary, features, remove_NaN=True, remove_all_zeroes=True, remove_any_zeroes=False, sort_keys = False):\n",
    "    \"\"\" convert dictionary to numpy array of features\n",
    "        remove_NaN = True will convert \"NaN\" string to 0.0\n",
    "        remove_all_zeroes = True will omit any data points for which\n",
    "            all the features you seek are 0.0\n",
    "        remove_any_zeroes = True will omit any data points for which\n",
    "            any of the features you seek are 0.0\n",
    "        sort_keys = True sorts keys by alphabetical order. Setting the value as\n",
    "            a string opens the corresponding pickle file with a preset key\n",
    "            order (this is used for Python 3 compatibility, and sort_keys\n",
    "            should be left as False for the course mini-projects).\n",
    "        NOTE: first feature is assumed to be 'poi' and is not checked for\n",
    "            removal for zero or missing values.\n",
    "    \"\"\"\n",
    "\n",
    "\n",
    "    return_list = []\n",
    "\n",
    "    # Key order - first branch is for Python 3 compatibility on mini-projects,\n",
    "    # second branch is for compatibility on final project.\n",
    "    if isinstance(sort_keys, str):\n",
    "        import pickle\n",
    "        keys = pickle.load(open(sort_keys, \"rb\"))\n",
    "    elif sort_keys:\n",
    "        keys = sorted(dictionary.keys())\n",
    "    else:\n",
    "        keys = dictionary.keys()\n",
    "    for f in my_dataset[person]:\n",
    "        if my_dataset[person][f] == 'NaN' and remove_NaN:\n",
    "            my_dataset[person][f] = 0.0\n",
    "    for key in keys:\n",
    "        tmp_list = []\n",
    "        for feature in features:\n",
    "            try:\n",
    "                dictionary[key][feature]\n",
    "            except KeyError:\n",
    "                print \"error: key \", feature, \" not present\"\n",
    "                return\n",
    "            value = dictionary[key][feature]\n",
    "            if value==\"NaN\" and remove_NaN:\n",
    "                value = 0\n",
    "            tmp_list.append( float(value) )\n",
    "\n",
    "        # Logic for deciding whether or not to add the data point.\n",
    "        append = True\n",
    "        # exclude 'poi' class as criteria.\n",
    "        if features[0] == 'poi':\n",
    "            test_list = tmp_list[1:]\n",
    "        else:\n",
    "            test_list = tmp_list\n",
    "        ### if all features are zero and you want to remove\n",
    "        ### data points that are all zero, do that here\n",
    "        if remove_all_zeroes:\n",
    "            append = False\n",
    "            for item in test_list:\n",
    "                if item != 0 and item != \"NaN\":\n",
    "                    append = True\n",
    "                    break\n",
    "        ### if any features for a given data point are zero\n",
    "        ### and you want to remove data points with any zeroes,\n",
    "        ### handle that here\n",
    "        if remove_any_zeroes:\n",
    "            if 0 in test_list or \"NaN\" in test_list:\n",
    "                append = False\n",
    "        ### Append the data point if flagged for addition.\n",
    "        if append:\n",
    "            return_list.append( np.array(tmp_list) )\n",
    "\n",
    "    return np.array(return_list)\n",
    "\n",
    "\n",
    "def targetFeatureSplit( data ):\n",
    "    \"\"\" \n",
    "        given a numpy array like the one returned from\n",
    "        featureFormat, separate out the first feature\n",
    "        and put it into its own list (this should be the \n",
    "        quantity you want to predict)\n",
    "\n",
    "        return targets and features as separate lists\n",
    "\n",
    "        (sklearn can generally handle both lists and numpy arrays as \n",
    "        input formats when training/predicting)\n",
    "    \"\"\"\n",
    "\n",
    "    target = []\n",
    "    features = []\n",
    "    for item in data:\n",
    "        target.append( item[0] )\n",
    "        features.append( item[1:] )\n",
    "\n",
    "    return target, features"
   ]
  },
  {
   "cell_type": "markdown",
   "metadata": {},
   "source": [
    "### Step 1: Load the dataset\n",
    "\n"
   ]
  },
  {
   "cell_type": "code",
   "execution_count": 43,
   "metadata": {
    "collapsed": false
   },
   "outputs": [],
   "source": [
    "import sys\n",
    "import pickle\n",
    "import pandas as pd\n",
    "\n",
    "with open(\"final_project_dataset.pkl\", \"r\") as data_file:  # Load the dictionary containing the dataset\n",
    "    data_dict = pickle.load(data_file)\n",
    "\n",
    "\n",
    "\n",
    "\n"
   ]
  },
  {
   "cell_type": "markdown",
   "metadata": {},
   "source": [
    "### Step 2: Begin exploring the dataset"
   ]
  },
  {
   "cell_type": "markdown",
   "metadata": {},
   "source": [
    "#### Perform preliminary analysis on the dataset"
   ]
  },
  {
   "cell_type": "code",
   "execution_count": 44,
   "metadata": {
    "collapsed": false
   },
   "outputs": [
    {
     "name": "stdout",
     "output_type": "stream",
     "text": [
      "Features to select from: \n",
      "['salary', 'to_messages', 'deferral_payments', 'total_payments', 'exercised_stock_options', 'bonus', 'restricted_stock', 'shared_receipt_with_poi', 'restricted_stock_deferred', 'total_stock_value', 'expenses', 'loan_advances', 'from_messages', 'other', 'from_this_person_to_poi', 'poi', 'director_fees', 'deferred_income', 'long_term_incentive', 'email_address', 'from_poi_to_this_person']\n"
     ]
    }
   ],
   "source": [
    "my_dataset = data_dict  # Rename dictionary to my_dataset\n",
    "\n",
    " \n",
    "# Select which features to add from this list.  I will add most of them and use a feature selection algorithm to \n",
    "# determine which features I will actually use.\n",
    "print 'Features to select from: '\n",
    "print my_dataset['LAY KENNETH L'].keys()"
   ]
  },
  {
   "cell_type": "markdown",
   "metadata": {},
   "source": [
    "#### Select features from the list above and add any additional created features that seem potentially useful\n",
    "I won't be too discriminatory in the features I add to this list.  Instead I will use a function (SelectPercentile) to select the features with the most information below.  Additionally, I will use a parameter tuning function (GridSearchCV) to select the appropriate percentile of features to use for each algorithm I test."
   ]
  },
  {
   "cell_type": "code",
   "execution_count": 45,
   "metadata": {
    "collapsed": true
   },
   "outputs": [],
   "source": [
    "features_list = ['poi','salary','expenses','pct_to_poi','pct_from_poi',\n",
    "                'pct_shared_poi','exercised_stock_options', 'deferral_payments',\n",
    "                'deferred_income','director_fees','loan_advances',\n",
    "                'long_term_incentive','bonus','other','restricted_stock',\n",
    "                'restricted_stock_deferred','total_payments','total_stock_value'] \n",
    "\n",
    "# features_list is a list of strings, each of which is a feature name.\n",
    "# As noted above, \"poi\" is first indicating it is the label we are \n",
    "# trying to predict."
   ]
  },
  {
   "cell_type": "markdown",
   "metadata": {},
   "source": [
    "#### A note on potential leakage:  \n",
    "The features I created are based on the number of emails the person has from, to, or shared receipt with POI’s.  This assumes that we already know who all the POI’s are.  However, if we were truly trying to predict a new data point, we wouldn’t know whether or not that person is POI, therefore they could not be accounted for in the email data.  This presents a potential leakage problem with training data and testing data splits.  For the purposes of this problem, we will assume that the email features represent the relationship with know POI’s, not all POI’s.  This is an imperfect assumption, but practical all things considered. "
   ]
  },
  {
   "cell_type": "markdown",
   "metadata": {},
   "source": [
    "#### Look for any problematic data points"
   ]
  },
  {
   "cell_type": "code",
   "execution_count": 46,
   "metadata": {
    "collapsed": false
   },
   "outputs": [
    {
     "name": "stdout",
     "output_type": "stream",
     "text": [
      "Data points with few features used: \n",
      "['WODRASKA JOHN', 'WHALEY DAVID A', 'CLINE KENNETH W', 'WAKEHAM JOHN', 'WROBEL BRUCE', 'SCRIMSHAW MATTHEW', 'GILLIS JOHN', 'LOCKHART EUGENE E', 'THE TRAVEL AGENCY IN THE PARK', 'SAVAGE FRANK', 'GRAMM WENDY L']\n"
     ]
    }
   ],
   "source": [
    "for i in my_dataset.keys():\n",
    "    my_dataset[i]['features_used'] = len([v for k, v in my_dataset[i].items() if v != 'NaN'])\n",
    "\n",
    "print \"Data points with few features used: \"\n",
    "print [k for k in my_dataset.keys() if my_dataset[k]['features_used']<=4]  \n",
    "\n"
   ]
  },
  {
   "cell_type": "code",
   "execution_count": 47,
   "metadata": {
    "collapsed": false
   },
   "outputs": [
    {
     "data": {
      "text/plain": [
       "{'bonus': 'NaN',\n",
       " 'deferral_payments': 'NaN',\n",
       " 'deferred_income': 'NaN',\n",
       " 'director_fees': 'NaN',\n",
       " 'email_address': 'NaN',\n",
       " 'exercised_stock_options': 'NaN',\n",
       " 'expenses': 'NaN',\n",
       " 'features_used': 3,\n",
       " 'from_messages': 'NaN',\n",
       " 'from_poi_to_this_person': 'NaN',\n",
       " 'from_this_person_to_poi': 'NaN',\n",
       " 'loan_advances': 'NaN',\n",
       " 'long_term_incentive': 'NaN',\n",
       " 'other': 362096,\n",
       " 'poi': False,\n",
       " 'restricted_stock': 'NaN',\n",
       " 'restricted_stock_deferred': 'NaN',\n",
       " 'salary': 'NaN',\n",
       " 'shared_receipt_with_poi': 'NaN',\n",
       " 'to_messages': 'NaN',\n",
       " 'total_payments': 362096,\n",
       " 'total_stock_value': 'NaN'}"
      ]
     },
     "execution_count": 47,
     "metadata": {},
     "output_type": "execute_result"
    }
   ],
   "source": [
    "# Remove 'THE TRAVEL AGENCY IN THE PARK' because it is not a person\n",
    "\n",
    "my_dataset.pop('THE TRAVEL AGENCY IN THE PARK',0)\n"
   ]
  },
  {
   "cell_type": "markdown",
   "metadata": {},
   "source": [
    "#### Create new features\n",
    "From reading the feature descriptions from the available features of my_dataset, it looks like we will need to transform a few to make them more useful.  "
   ]
  },
  {
   "cell_type": "code",
   "execution_count": 48,
   "metadata": {
    "collapsed": false
   },
   "outputs": [],
   "source": [
    "for person in my_dataset:\n",
    "    my_dataset[person]['pct_to_poi'] =  0.0\n",
    "    my_dataset[person]['pct_from_poi'] = 0.0\n",
    "    my_dataset[person]['pct_shared_poi'] = 0.0\n",
    "    if (my_dataset[person]['from_poi_to_this_person'] != 'NaN') and (my_dataset[person]['from_messages'] != 'NaN') and (my_dataset[person]['from_messages'] != 0):\n",
    "        my_dataset[person]['pct_from_poi'] =  float(my_dataset[person]['from_poi_to_this_person']) /  float(my_dataset[person]['to_messages'])\n",
    "    if (my_dataset[person]['from_this_person_to_poi'] != 'NaN') and (my_dataset[person]['to_messages'] != 'NaN') and (my_dataset[person]['to_messages'] != 0):\n",
    "        my_dataset[person]['pct_to_poi'] =  float(my_dataset[person]['from_this_person_to_poi']) /  float(my_dataset[person]['from_messages'])\n",
    "    if (my_dataset[person]['shared_receipt_with_poi'] != 'NaN') and (my_dataset[person]['to_messages'] != 'NaN') and (my_dataset[person]['to_messages'] != 0):    \n",
    "        my_dataset[person]['pct_shared_poi'] =  float(my_dataset[person]['shared_receipt_with_poi']) /  float(my_dataset[person]['to_messages'])\n",
    "        \n",
    "    for f in my_dataset[person]:\n",
    "        if my_dataset[person][f] == 'NaN':\n",
    "            my_dataset[person][f] = 0.0\n"
   ]
  },
  {
   "cell_type": "markdown",
   "metadata": {},
   "source": [
    "#### Get an overview of our modified dataset"
   ]
  },
  {
   "cell_type": "code",
   "execution_count": 49,
   "metadata": {
    "collapsed": false
   },
   "outputs": [
    {
     "name": "stdout",
     "output_type": "stream",
     "text": [
      "Information regarding the dataset:\n",
      "Number of data points:  144\n",
      "Number of features available:  25\n",
      "Number of POI's:  18\n",
      "\n"
     ]
    }
   ],
   "source": [
    "# Extract features and labels from dataset for local testing.\n",
    "\n",
    "data = featureFormat(my_dataset, features_list, sort_keys = True,remove_NaN=True)\n",
    "data = np.nan_to_num(data)\n",
    "labels, features = targetFeatureSplit(data)\n",
    "\n",
    "# Look at the overall allocation of the dataset\n",
    "\n",
    "print 'Information regarding the dataset:'\n",
    "print 'Number of data points: ', len(labels)\n",
    "print 'Number of features available: ', len(my_dataset['LAY KENNETH L'].keys())\n",
    "print \"Number of POI's: \", len([label for label in labels if label ==1])\n",
    "print \"\"\n",
    "\n"
   ]
  },
  {
   "cell_type": "code",
   "execution_count": 50,
   "metadata": {
    "collapsed": false
   },
   "outputs": [
    {
     "data": {
      "text/html": [
       "<div>\n",
       "<table border=\"1\" class=\"dataframe\">\n",
       "  <thead>\n",
       "    <tr style=\"text-align: right;\">\n",
       "      <th></th>\n",
       "      <th>0</th>\n",
       "      <th>1</th>\n",
       "      <th>2</th>\n",
       "      <th>3</th>\n",
       "      <th>4</th>\n",
       "      <th>5</th>\n",
       "      <th>6</th>\n",
       "      <th>7</th>\n",
       "      <th>8</th>\n",
       "      <th>9</th>\n",
       "      <th>10</th>\n",
       "      <th>11</th>\n",
       "      <th>12</th>\n",
       "      <th>13</th>\n",
       "      <th>14</th>\n",
       "      <th>15</th>\n",
       "      <th>16</th>\n",
       "      <th>17</th>\n",
       "    </tr>\n",
       "  </thead>\n",
       "  <tbody>\n",
       "    <tr>\n",
       "      <th>0</th>\n",
       "      <td>0.0</td>\n",
       "      <td>201955.0</td>\n",
       "      <td>13868.0</td>\n",
       "      <td>0.029613</td>\n",
       "      <td>0.016196</td>\n",
       "      <td>0.484838</td>\n",
       "      <td>1729541.0</td>\n",
       "      <td>2869717.0</td>\n",
       "      <td>-3081055.0</td>\n",
       "      <td>0.0</td>\n",
       "      <td>0.0</td>\n",
       "      <td>304805.0</td>\n",
       "      <td>4175000.0</td>\n",
       "      <td>152.0</td>\n",
       "      <td>126027.0</td>\n",
       "      <td>-126027.0</td>\n",
       "      <td>4484442.0</td>\n",
       "      <td>1729541.0</td>\n",
       "    </tr>\n",
       "    <tr>\n",
       "      <th>1</th>\n",
       "      <td>0.0</td>\n",
       "      <td>0.0</td>\n",
       "      <td>3486.0</td>\n",
       "      <td>0.000000</td>\n",
       "      <td>0.000000</td>\n",
       "      <td>0.000000</td>\n",
       "      <td>257817.0</td>\n",
       "      <td>178980.0</td>\n",
       "      <td>0.0</td>\n",
       "      <td>0.0</td>\n",
       "      <td>0.0</td>\n",
       "      <td>0.0</td>\n",
       "      <td>0.0</td>\n",
       "      <td>0.0</td>\n",
       "      <td>0.0</td>\n",
       "      <td>0.0</td>\n",
       "      <td>182466.0</td>\n",
       "      <td>257817.0</td>\n",
       "    </tr>\n",
       "    <tr>\n",
       "      <th>2</th>\n",
       "      <td>0.0</td>\n",
       "      <td>477.0</td>\n",
       "      <td>56301.0</td>\n",
       "      <td>0.000000</td>\n",
       "      <td>0.068905</td>\n",
       "      <td>0.821555</td>\n",
       "      <td>4046157.0</td>\n",
       "      <td>0.0</td>\n",
       "      <td>-5104.0</td>\n",
       "      <td>0.0</td>\n",
       "      <td>0.0</td>\n",
       "      <td>0.0</td>\n",
       "      <td>0.0</td>\n",
       "      <td>864523.0</td>\n",
       "      <td>1757552.0</td>\n",
       "      <td>-560222.0</td>\n",
       "      <td>916197.0</td>\n",
       "      <td>5243487.0</td>\n",
       "    </tr>\n",
       "    <tr>\n",
       "      <th>3</th>\n",
       "      <td>0.0</td>\n",
       "      <td>267102.0</td>\n",
       "      <td>11200.0</td>\n",
       "      <td>0.000000</td>\n",
       "      <td>0.000000</td>\n",
       "      <td>0.000000</td>\n",
       "      <td>6680544.0</td>\n",
       "      <td>1295738.0</td>\n",
       "      <td>-1386055.0</td>\n",
       "      <td>0.0</td>\n",
       "      <td>0.0</td>\n",
       "      <td>1586055.0</td>\n",
       "      <td>1200000.0</td>\n",
       "      <td>2660303.0</td>\n",
       "      <td>3942714.0</td>\n",
       "      <td>0.0</td>\n",
       "      <td>5634343.0</td>\n",
       "      <td>10623258.0</td>\n",
       "    </tr>\n",
       "    <tr>\n",
       "      <th>4</th>\n",
       "      <td>0.0</td>\n",
       "      <td>239671.0</td>\n",
       "      <td>129142.0</td>\n",
       "      <td>0.000000</td>\n",
       "      <td>0.000000</td>\n",
       "      <td>0.000000</td>\n",
       "      <td>0.0</td>\n",
       "      <td>260455.0</td>\n",
       "      <td>-201641.0</td>\n",
       "      <td>0.0</td>\n",
       "      <td>0.0</td>\n",
       "      <td>0.0</td>\n",
       "      <td>400000.0</td>\n",
       "      <td>69.0</td>\n",
       "      <td>145796.0</td>\n",
       "      <td>-82782.0</td>\n",
       "      <td>827696.0</td>\n",
       "      <td>63014.0</td>\n",
       "    </tr>\n",
       "  </tbody>\n",
       "</table>\n",
       "</div>"
      ],
      "text/plain": [
       "    0         1         2         3         4         5          6   \\\n",
       "0  0.0  201955.0   13868.0  0.029613  0.016196  0.484838  1729541.0   \n",
       "1  0.0       0.0    3486.0  0.000000  0.000000  0.000000   257817.0   \n",
       "2  0.0     477.0   56301.0  0.000000  0.068905  0.821555  4046157.0   \n",
       "3  0.0  267102.0   11200.0  0.000000  0.000000  0.000000  6680544.0   \n",
       "4  0.0  239671.0  129142.0  0.000000  0.000000  0.000000        0.0   \n",
       "\n",
       "          7          8    9    10         11         12         13         14  \\\n",
       "0  2869717.0 -3081055.0  0.0  0.0   304805.0  4175000.0      152.0   126027.0   \n",
       "1   178980.0        0.0  0.0  0.0        0.0        0.0        0.0        0.0   \n",
       "2        0.0    -5104.0  0.0  0.0        0.0        0.0   864523.0  1757552.0   \n",
       "3  1295738.0 -1386055.0  0.0  0.0  1586055.0  1200000.0  2660303.0  3942714.0   \n",
       "4   260455.0  -201641.0  0.0  0.0        0.0   400000.0       69.0   145796.0   \n",
       "\n",
       "         15         16          17  \n",
       "0 -126027.0  4484442.0   1729541.0  \n",
       "1       0.0   182466.0    257817.0  \n",
       "2 -560222.0   916197.0   5243487.0  \n",
       "3       0.0  5634343.0  10623258.0  \n",
       "4  -82782.0   827696.0     63014.0  "
      ]
     },
     "execution_count": 50,
     "metadata": {},
     "output_type": "execute_result"
    }
   ],
   "source": [
    "data = pd.DataFrame(data)\n",
    "data.head()"
   ]
  },
  {
   "cell_type": "markdown",
   "metadata": {},
   "source": [
    "There are several null values in the dataset.  We replaced these with 0's.  This is not quite ideal -- we'd likely be able to create a model with more predictive power if we had a richer dataset."
   ]
  },
  {
   "cell_type": "markdown",
   "metadata": {},
   "source": [
    "### Step 3: Visualize data for continued exploration\n",
    "Visualize the data looking for anything unusual, and investigating these idiosycrasies further to determine if they are outliers.  Also, look for patterns that hold POI's apart from Non-POI's.  \n",
    "\n",
    "When outliers are discovered, write code to remove them from my_dataset then rerun data."
   ]
  },
  {
   "cell_type": "code",
   "execution_count": 51,
   "metadata": {
    "collapsed": false
   },
   "outputs": [],
   "source": [
    "# Functions that will be helpful in streamlining the exploration process\n",
    "\n",
    "def visualize(x,y,data):\n",
    "    %matplotlib inline\n",
    "    import matplotlib.pyplot as plt\n",
    "    import seaborn as sns\n",
    "    sns.lmplot(x=x,y=y,data=data, hue= 'color', fit_reg = False) \n",
    "    sns.plt.title(\"{} vs. {}\".format(x,y))\n",
    "    \n",
    "def maximum(x,y,data,dic):\n",
    "    max_x = max(data[x])\n",
    "    max_y = max(data[y])\n",
    "    for person in dic:\n",
    "        if dic[person][x] == max_x:\n",
    "            print \"Maximum {}:\".format(x), person\n",
    "        if dic[person][y] == max_y:\n",
    "            print \"Maximum {}:\".format(y), person\n"
   ]
  },
  {
   "cell_type": "code",
   "execution_count": 53,
   "metadata": {
    "collapsed": false
   },
   "outputs": [
    {
     "name": "stdout",
     "output_type": "stream",
     "text": [
      "Maximum expenses: TOTAL\n",
      "Maximum salary: TOTAL\n"
     ]
    },
    {
     "data": {
      "image/png": "[encoded data removed]",
      "text/plain": [
       "<matplotlib.figure.Figure at 0x1174c5510>"
      ]
     },
     "metadata": {},
     "output_type": "display_data"
    }
   ],
   "source": [
    "# Visualize, explore and search for outliers.\n",
    "\n",
    "data = featureFormat(my_dataset, features_list, sort_keys = True,remove_NaN=True)\n",
    "\n",
    "\n",
    "\n",
    "df = pd.DataFrame(data,columns=features_list)\n",
    "df['color'] = df[\"poi\"].apply(lambda poi: 'POI' if poi == 1 else 'Non')\n",
    "\n",
    "visualize('expenses','salary',df)\n",
    "maximum('expenses','salary',df,my_dataset)"
   ]
  },
  {
   "cell_type": "markdown",
   "metadata": {
    "collapsed": false
   },
   "source": [
    "It looks like we have an outlier.  One data point is several orders of magnitude above the rest. \n",
    "\n",
    "We can see that our outlier is 'TOTAL'.  I will remove this below."
   ]
  },
  {
   "cell_type": "code",
   "execution_count": 18,
   "metadata": {
    "collapsed": false
   },
   "outputs": [
    {
     "name": "stdout",
     "output_type": "stream",
     "text": [
      "\n",
      "Remove 'TOTAL' and reload data...\n",
      "\n",
      "Maximum expenses: MCCLELLAN GEORGE\n",
      "Maximum salary: SKILLING JEFFREY K\n"
     ]
    },
    {
     "data": {
      "image/png": "[encoded data removed]",
      "text/plain": [
       "<matplotlib.figure.Figure at 0x1174bed90>"
      ]
     },
     "metadata": {},
     "output_type": "display_data"
    }
   ],
   "source": [
    "# Remove 'TOTAL', reload data, and run again. \n",
    "print \"\"\n",
    "print \"Remove 'TOTAL' and reload data...\"\n",
    "print \"\"\n",
    "\n",
    "my_dataset.pop('TOTAL',0) # Remove 'TOTAL' \n",
    "data = featureFormat(my_dataset, features_list, sort_keys = True,remove_NaN=True)\n",
    "data = np.nan_to_num(data)\n",
    "labels, features = targetFeatureSplit(data)\n",
    "df = pd.DataFrame(data,columns=features_list)\n",
    "df['color'] = df[\"poi\"].apply(lambda poi: 'POI' if poi == 1 else 'Non')\n",
    "\n",
    "visualize('expenses','salary',df)\n",
    "maximum('expenses','salary',df,my_dataset)"
   ]
  },
  {
   "cell_type": "markdown",
   "metadata": {
    "collapsed": true
   },
   "source": [
    "Now the person with the highest maximum salary is 'SKILLING JEFFREY K' who is a POI that we definitely want to keep.\n",
    "\n",
    "Neither salary nor expenses look like they have much predictive power."
   ]
  },
  {
   "cell_type": "code",
   "execution_count": 185,
   "metadata": {
    "collapsed": false
   },
   "outputs": [
    {
     "name": "stdout",
     "output_type": "stream",
     "text": [
      "Maximum pct_to_poi: HUMPHREY GENE E\n",
      "Maximum pct_from_poi: DONAHUE JR JEFFREY M\n"
     ]
    },
    {
     "data": {
      "image/png": "[encoded data removed]",
      "text/plain": [
       "<matplotlib.figure.Figure at 0x119cfa3d0>"
      ]
     },
     "metadata": {},
     "output_type": "display_data"
    }
   ],
   "source": [
    "### Continue exploration of data and investigation of outliers.\n",
    "\n",
    "visualize('pct_to_poi','pct_from_poi',df)\n",
    "maximum('pct_to_poi','pct_from_poi',df,my_dataset)\n"
   ]
  },
  {
   "cell_type": "code",
   "execution_count": 17,
   "metadata": {
    "collapsed": false
   },
   "outputs": [
    {
     "name": "stdout",
     "output_type": "stream",
     "text": [
      "Maximum bonus: LAVORATO JOHN J\n",
      "Maximum deferral_payments: FREVERT MARK A\n"
     ]
    },
    {
     "data": {
      "image/png": "[encoded data removed]",
      "text/plain": [
       "<matplotlib.figure.Figure at 0x11397ce90>"
      ]
     },
     "metadata": {},
     "output_type": "display_data"
    }
   ],
   "source": [
    "# Continue exploration of data and investigation of outliers.\n",
    "\n",
    "visualize('bonus','deferral_payments',df)\n",
    "maximum('bonus','deferral_payments',df,my_dataset)"
   ]
  },
  {
   "cell_type": "code",
   "execution_count": 19,
   "metadata": {
    "collapsed": false
   },
   "outputs": [
    {
     "name": "stdout",
     "output_type": "stream",
     "text": [
      "Maximum exercised_stock_options: LAY KENNETH L\n",
      "Maximum total_stock_value: LAY KENNETH L\n"
     ]
    },
    {
     "data": {
      "image/png": "[encoded data removed]",
      "text/plain": [
       "<matplotlib.figure.Figure at 0x118067d90>"
      ]
     },
     "metadata": {},
     "output_type": "display_data"
    }
   ],
   "source": [
    "# Continue exploration of data and investigation of outliers\n",
    "\n",
    "visualize('exercised_stock_options','total_stock_value',df)\n",
    "maximum('exercised_stock_options','total_stock_value',df,my_dataset)\n"
   ]
  },
  {
   "cell_type": "markdown",
   "metadata": {
    "collapsed": true
   },
   "source": [
    "One data point above is quite a bit larger on both measures.  We can see this is Kenneth Lay, chairmen of the board and definitely a POI.  We will want to leave him in."
   ]
  },
  {
   "cell_type": "code",
   "execution_count": 21,
   "metadata": {
    "collapsed": false
   },
   "outputs": [
    {
     "name": "stdout",
     "output_type": "stream",
     "text": [
      "Maximum restricted_stock: LAY KENNETH L\n",
      "Maximum long_term_incentive: MARTIN AMANDA K\n"
     ]
    },
    {
     "data": {
      "image/png": "[encoded data removed]",
      "text/plain": [
       "<matplotlib.figure.Figure at 0x1180d3050>"
      ]
     },
     "metadata": {},
     "output_type": "display_data"
    }
   ],
   "source": [
    "# Continue exploration of data and investigation of outliers\n",
    "\n",
    "visualize('restricted_stock','long_term_incentive',df)\n",
    "maximum('restricted_stock','long_term_incentive',df,my_dataset)\n"
   ]
  },
  {
   "cell_type": "markdown",
   "metadata": {},
   "source": [
    "### Step 4: Test different prediction algorithms on the dataset then evaluate and validate\n",
    "\n",
    "\n",
    "#### Test\n",
    "I will test several different machine learning prediction classifiers on the dataset in an attempt to create an algorithm that correctly classifies POI's as POI's and Non-POI's as Non-POI's.  On each algorithm I'll use the sklearn function GridSearchCV which allows me to try out a each combination of the the parameter values passed in.\n",
    "\n",
    "The algorithms I will test are: Gaussian Naive Bayes, K Nearest Neighbors, Logistic Regression, Adaptive Boosting and Extreme Gradient Boosting.  I will use Principal Component Analysis and SelectPercentile to select the features added to each algorithm.\n",
    "\n",
    "Before implementing feature selection or PCA, I will need to scale the features.  PCA (along several of the algorithms I will test) will need feature scaling to work properly because it requires the variance of each feature to be standardized.  K Nearest Neighbors and Logistic Regression would require feature scaling even if I weren't using PCA, and feature scaling has no affect on the other algorithms.\n",
    "\n",
    "Principal Component Analysis, or PCA, reduces the number of features used by the algorithm by compressing the information from many features into a few.\n",
    "\n",
    "SelectPercentile scores the power of each feature based on the dataset, and selects the features within the specified percentile passed in.\n",
    "\n",
    "\n",
    "\n"
   ]
  },
  {
   "cell_type": "markdown",
   "metadata": {},
   "source": [
    "#### Evaluate\n",
    "The primary evaluation criterion I will consider are precision and recall.  Precision is the\n",
    "percentatge of people we predict to be POI's that are actually POI's.  Recall is percentage of\n",
    "all the POI's that we identify as POI's.\n",
    "\n",
    "In my opinion, recall is more important than precision in this situation.  I think it should\n",
    "be left up to the justice system to determine false positives predicted by our model.  Of\n",
    "course, precision is still important. However, I am making the value judgement that recall is\n",
    "more important.  "
   ]
  },
  {
   "cell_type": "markdown",
   "metadata": {},
   "source": [
    "#### Validate\n",
    "I want to make sure the result is valid.  Therefore the test predictions should not be made on the same data that the algorithm was trained on.  Because the sample size is relatively small, a cross validation technique will be useful to maintain a higher number of data points to train on.  The dataset is also very lopsided (most people in the dataset are not POI's), so a stratified sample will be preferable.  StratifiedShuffleSplit  accomplishes both of these tasks."
   ]
  },
  {
   "cell_type": "markdown",
   "metadata": {},
   "source": [
    "The functions below are used for the purpose of evaluating and validating the algorithms below.  These functions were obtained from udacity.com."
   ]
  },
  {
   "cell_type": "code",
   "execution_count": 23,
   "metadata": {
    "collapsed": false
   },
   "outputs": [],
   "source": [
    "\"\"\" a basic script for testing the POI identifier,\n",
    "    and checking the results that are produced by it \n",
    " \n",
    "    requires that the algorithm, dataset, and features list\n",
    "    be written to my_classifier.pkl, my_dataset.pkl, and\n",
    "    my_feature_list.pkl, respectively\n",
    "\n",
    "\"\"\"\n",
    "\n",
    "import pickle\n",
    "import sys\n",
    "from sklearn.cross_validation import StratifiedShuffleSplit\n",
    "sys.path.append(\"../tools/\")\n",
    "#from feature_format import featureFormat, targetFeatureSplit\n",
    "\n",
    "PERF_FORMAT_STRING = \"\\\n",
    "\\tAccuracy: {:>0.{display_precision}f}\\tPrecision: {:>0.{display_precision}f}\\t\\\n",
    "Recall: {:>0.{display_precision}f}\\tF1: {:>0.{display_precision}f}\\tF2: {:>0.{display_precision}f}\"\n",
    "RESULTS_FORMAT_STRING = \"\\tTotal predictions: {:4d}\\tTrue positives: {:4d}\\tFalse positives: {:4d}\\\n",
    "\\tFalse negatives: {:4d}\\tTrue negatives: {:4d}\"\n",
    "\n",
    "def test_classifier(clf, dataset, feature_list, folds = 1000):\n",
    "    data = featureFormat(dataset, feature_list, sort_keys = True)\n",
    "    labels, features = targetFeatureSplit(data)\n",
    "    cv = StratifiedShuffleSplit(labels, folds, random_state = 42)\n",
    "    true_negatives = 0\n",
    "    false_negatives = 0\n",
    "    true_positives = 0\n",
    "    false_positives = 0\n",
    "    for train_idx, test_idx in cv: \n",
    "        features_train = []\n",
    "        features_test  = []\n",
    "        labels_train   = []\n",
    "        labels_test    = []\n",
    "        for ii in train_idx:\n",
    "            features_train.append( features[ii] )\n",
    "            labels_train.append( labels[ii] )\n",
    "        for jj in test_idx:\n",
    "            features_test.append( features[jj] )\n",
    "            labels_test.append( labels[jj] )\n",
    "        \n",
    "        ### fit the classifier using training set, and test on test set\n",
    "        clf.fit(features_train, labels_train)\n",
    "        predictions = clf.predict(features_test)\n",
    "        for prediction, truth in zip(predictions, labels_test):\n",
    "            if prediction == 0 and truth == 0:\n",
    "                true_negatives += 1\n",
    "            elif prediction == 0 and truth == 1:\n",
    "                false_negatives += 1\n",
    "            elif prediction == 1 and truth == 0:\n",
    "                false_positives += 1\n",
    "            elif prediction == 1 and truth == 1:\n",
    "                true_positives += 1\n",
    "            else:\n",
    "                print \"Warning: Found a predicted label not == 0 or 1.\"\n",
    "                print \"All predictions should take value 0 or 1.\"\n",
    "                print \"Evaluating performance for processed predictions:\"\n",
    "                break\n",
    "    try:\n",
    "        total_predictions = true_negatives + false_negatives + false_positives + true_positives\n",
    "        accuracy = 1.0*(true_positives + true_negatives)/total_predictions\n",
    "        precision = 1.0*true_positives/(true_positives+false_positives)\n",
    "        recall = 1.0*true_positives/(true_positives+false_negatives)\n",
    "        f1 = 2.0 * true_positives/(2*true_positives + false_positives+false_negatives)\n",
    "        f2 = (1+2.0*2.0) * precision*recall/(4*precision + recall)\n",
    "        print clf\n",
    "        print PERF_FORMAT_STRING.format(accuracy, precision, recall, f1, f2, display_precision = 5)\n",
    "        print RESULTS_FORMAT_STRING.format(total_predictions, true_positives, false_positives, false_negatives, true_negatives)\n",
    "        print \"\"\n",
    "    except:\n",
    "        print \"Got a divide by zero when trying out:\", clf\n",
    "        print \"Precision or recall may be undefined due to a lack of true positive predicitons.\"\n",
    "\n",
    "\n",
    "    \n",
    "    "
   ]
  },
  {
   "cell_type": "code",
   "execution_count": 36,
   "metadata": {
    "collapsed": true
   },
   "outputs": [],
   "source": [
    "# Load in sci-kit learn modules\n",
    "from sklearn.pipeline import Pipeline, FeatureUnion\n",
    "from sklearn.grid_search import GridSearchCV \n",
    "from sklearn.cross_validation import StratifiedShuffleSplit\n",
    "from sklearn.decomposition import PCA\n",
    "from sklearn.metrics import f1_score, precision_score, recall_score,classification_report\n",
    "from sklearn.feature_selection import SelectPercentile,f_classif\n",
    "from sklearn.preprocessing import MinMaxScaler\n"
   ]
  },
  {
   "cell_type": "markdown",
   "metadata": {},
   "source": [
    "#### Gaussian Naive Bayes"
   ]
  },
  {
   "cell_type": "code",
   "execution_count": 46,
   "metadata": {
    "collapsed": false,
    "scrolled": true
   },
   "outputs": [
    {
     "name": "stdout",
     "output_type": "stream",
     "text": [
      "Naive Bayes:\n",
      "Pipeline(steps=[('scaler', MinMaxScaler(copy=True, feature_range=(0, 1))), ('feature', FeatureUnion(n_jobs=1,\n",
      "       transformer_list=[('select', SelectPercentile(percentile=100,\n",
      "         score_func=<function f_classif at 0x10b7b8a28>)), ('PCA', PCA(copy=True, n_components=1, whiten=False))],\n",
      "       transformer_weights=None)), ('algorithm', GaussianNB())])\n",
      "\tAccuracy: 0.57033\tPrecision: 0.20852\tRecall: 0.79500\tF1: 0.33039\tF2: 0.50880\n",
      "\tTotal predictions: 15000\tTrue positives: 1590\tFalse positives: 6035\tFalse negatives:  410\tTrue negatives: 6965\n",
      "\n",
      "None\n"
     ]
    }
   ],
   "source": [
    "# Naive Bayes with feature union -- (runs SelectPercentile and PCA simeltaneously \n",
    "# instead of sequentially). For each algorithm below, test with and without feature\n",
    "# union and use which ever returns the better cross-validated result.\n",
    "\n",
    "from sklearn.naive_bayes import GaussianNB\n",
    "\n",
    "gnb = GaussianNB()\n",
    "\n",
    "scaler = MinMaxScaler(feature_range=(0, 1), copy=True)\n",
    "percentile = SelectPercentile(percentile=100)\n",
    "pca = PCA(n_components=1)\n",
    "combo = FeatureUnion([('select',percentile),('PCA',pca)])\n",
    "steps = [('scaler',scaler),('feature',combo),('algorithm',gnb)]\n",
    "pipeline = Pipeline(steps)\n",
    "\n",
    "# Code used to tune algorithm -- uncomment to run:\n",
    "#parameters = {'feature__select__percentile':[25,50,75,100],\n",
    "#              'feature__PCA__n_components':[1,2,3]}\n",
    "#cv = StratifiedShuffleSplit(labels, n_iter=100, random_state = 42)            \n",
    "#grid = GridSearchCV(pipeline, param_grid=parameters, scoring='recall',cv=cv)\n",
    "#grid = grid.fit(features,labels)\n",
    "#clf_best = grid.best_estimator_\n",
    "\n",
    "nb_pipe = pipeline.fit(features,labels)\n",
    "\n",
    "print 'Naive Bayes:'\n",
    "print test_classifier(nb_pipe, my_dataset, features_list, folds = 1000)\n"
   ]
  },
  {
   "cell_type": "markdown",
   "metadata": {},
   "source": [
    "#### K Nearest Neighbors"
   ]
  },
  {
   "cell_type": "code",
   "execution_count": 51,
   "metadata": {
    "collapsed": false
   },
   "outputs": [
    {
     "name": "stdout",
     "output_type": "stream",
     "text": [
      "Features selected sorted by score: ['pct_shared_poi', 'total_payments', 'long_term_incentive', 'expenses']\n",
      "Accompanying scores:  [24.815079733218194, 24.182898678566872, 20.792252047181538, 18.289684043404513]\n",
      " \n",
      "K Nearest Neighbors:\n",
      "Pipeline(steps=[('scaler', MinMaxScaler(copy=True, feature_range=(0, 1))), ('select', SelectPercentile(percentile=30,\n",
      "         score_func=<function f_classif at 0x10b7b8a28>)), ('PCA', PCA(copy=True, n_components=3, whiten=False)), ('algorithm', KNeighborsClassifier(algorithm='auto', leaf_size=10, metric='chebyshev',\n",
      "           metric_params=None, n_jobs=1, n_neighbors=2, p=1,\n",
      "           weights='distance'))])\n",
      "\tAccuracy: 0.83433\tPrecision: 0.36039\tRecall: 0.31300\tF1: 0.33503\tF2: 0.32145\n",
      "\tTotal predictions: 15000\tTrue positives:  626\tFalse positives: 1111\tFalse negatives: 1374\tTrue negatives: 11889\n",
      "\n",
      "None\n",
      "\n",
      "PCA Eigenvalue(s):  [ 0.4577492   0.28794443  0.17295977]\n"
     ]
    }
   ],
   "source": [
    "from sklearn.neighbors import KNeighborsClassifier\n",
    "\n",
    "knn = KNeighborsClassifier(algorithm='auto', leaf_size=10,metric='chebyshev',metric_params=None,\n",
    "                           n_jobs=1, n_neighbors=2, p=1,weights='distance')\n",
    "\n",
    "scaler = MinMaxScaler(feature_range=(0, 1), copy=True)\n",
    "percentile = SelectPercentile(percentile=30)\n",
    "\n",
    "pca = PCA(n_components=3)\n",
    "#combo = FeatureUnion([('select',percentile),('PCA',pca)])\n",
    "steps = [('scaler',scaler),('select',percentile),('PCA',pca),('algorithm',knn)]\n",
    "pipeline = Pipeline(steps)\n",
    "\n",
    "# Code used to tune algorithm -- uncomment to run:\n",
    "#parameters = {'select__percentile':[20,30,40],\n",
    "#              'PCA__n_components':[3,4]},\n",
    "#              'algorithm__n_neighbors':[2,3,4],\n",
    "#              'algorithm__p':[1,2],\n",
    "#              'algorithm__weights':['uniform','distance'],\n",
    "#              'algorithm__leaf_size':[10,20],\n",
    "#              'algorithm__metric':['euclidean','manhattan','chebyshev']}\n",
    "\n",
    "#cv = StratifiedShuffleSplit(labels, n_iter=100, random_state = 42)            \n",
    "#grid = GridSearchCV(pipeline, param_grid=parameters, scoring='recall',cv=cv)\n",
    "#grid.fit(features,labels)\n",
    "#clf_best = grid.best_estimator_\n",
    "\n",
    "knn_pipe = pipeline.fit(features,labels)\n",
    "\n",
    "\n",
    "selected = [features_list[i] for i in np.argsort(knn_pipe.named_steps['select'].scores_)[::-1] if features_list[i]!='poi'][0:(int(len(features_list)*.3)-1)] \n",
    "scores = sorted(knn_pipe.named_steps['select'].scores_,reverse=True)[0:4]\n",
    "\n",
    "print 'Features selected sorted by score:', selected\n",
    "print 'Accompanying scores: ', scores\n",
    "print ' '\n",
    "print 'K Nearest Neighbors:'\n",
    "print test_classifier(knn_pipe, my_dataset, features_list, folds = 1000)\n",
    "\n"
   ]
  },
  {
   "cell_type": "markdown",
   "metadata": {},
   "source": [
    "#### Logistic Regression"
   ]
  },
  {
   "cell_type": "code",
   "execution_count": 99,
   "metadata": {
    "collapsed": false
   },
   "outputs": [
    {
     "name": "stdout",
     "output_type": "stream",
     "text": [
      "\n",
      "Features selected sorted by score: ['pct_shared_poi', 'total_payments', 'long_term_incentive', 'expenses', 'deferral_payments', 'loan_advances', 'other', 'pct_from_poi']\n",
      "\n",
      "Accompanying scores:  [24.815079733218194, 24.182898678566872, 20.792252047181538, 18.289684043404513, 16.409712548035792, 11.458476579280697, 9.9221860131898385, 9.212810621977086]\n",
      "Logistic Regression:\n",
      "Pipeline(steps=[('scaler', MinMaxScaler(copy=True, feature_range=(0, 1))), ('feature', FeatureUnion(n_jobs=1,\n",
      "       transformer_list=[('select', SelectPercentile(percentile=50,\n",
      "         score_func=<function f_classif at 0x10b7b8a28>)), ('PCA', PCA(copy=True, n_components=2, whiten=False))],\n",
      "       transform...ty='l2', random_state=None,\n",
      "          solver='liblinear', tol=0.0001, verbose=0, warm_start=False))])\n",
      "\tAccuracy: 0.70580\tPrecision: 0.26988\tRecall: 0.70750\tF1: 0.39072\tF2: 0.53424\n",
      "\tTotal predictions: 15000\tTrue positives: 1415\tFalse positives: 3828\tFalse negatives:  585\tTrue negatives: 9172\n",
      "\n",
      "None\n"
     ]
    }
   ],
   "source": [
    "from sklearn.linear_model import LogisticRegression\n",
    "\n",
    "log = LogisticRegression(class_weight='balanced',penalty='l2',C=.22)\n",
    "\n",
    "scaler = MinMaxScaler(feature_range=(0, 1), copy=True) \n",
    "percentile = SelectPercentile(percentile=50)\n",
    "pca = PCA(n_components=2)\n",
    "# For feature selection, use FeatureUnion to run PCA and and SelectPercentile simeltaneously \n",
    "combo = FeatureUnion([('select',percentile),('PCA',pca)])\n",
    "\n",
    "# Then create a pipeline to streamline the feature selection and algorithm\n",
    "steps = [('scaler',scaler),('feature',combo),('algorithm',log)]\n",
    "pipeline = Pipeline(steps)\n",
    "\n",
    "# Code used to tune algorithm -- uncomment to run:\n",
    "#parameters = {'feature__select__percentile':[25,50,75],\n",
    "              #'feature__PCA__n_components':[1,2,3],\n",
    "              #'algorithm__penalty':['l1','l2'],\n",
    "              #'algorithm__C':[.21,.22,.23]}\n",
    "\n",
    "#cv = StratifiedShuffleSplit(labels, n_iter=100, random_state = 42)            \n",
    "#grid = GridSearchCV(pipeline, param_grid=parameters, scoring='f1',cv=cv)\n",
    "#grid.fit(features,labels)\n",
    "#clf_best = grid.best_estimator_\n",
    "\n",
    "log_pipe= pipeline.fit(features,labels)\n",
    "\n",
    "selected = [features_list[i] for i in np.argsort(percentile.scores_)[::-1] if features_list[i]!='poi'][0:(int(len(features_list)*.5)-1)] \n",
    "scores = sorted(percentile.scores_,reverse=True)[0:(int(len(features_list)*.5)-1)]\n",
    "print ''\n",
    "print 'Features selected sorted by score:', selected\n",
    "print ''\n",
    "print 'Accompanying scores: ', scores\n",
    "print 'Logistic Regression:'\n",
    "print test_classifier(log_pipe, my_dataset, features_list, folds = 1000)\n"
   ]
  },
  {
   "cell_type": "markdown",
   "metadata": {},
   "source": [
    "#### Adaptive Boosting Classifier"
   ]
  },
  {
   "cell_type": "code",
   "execution_count": 162,
   "metadata": {
    "collapsed": false
   },
   "outputs": [
    {
     "name": "stdout",
     "output_type": "stream",
     "text": [
      "\n",
      "Features selected sorted by score: ['pct_shared_poi', 'total_payments', 'long_term_incentive', 'expenses', 'deferral_payments', 'loan_advances', 'other', 'pct_from_poi', 'restricted_stock_deferred', 'director_fees', 'salary', 'bonus', 'pct_to_poi', 'deferred_income']\n",
      "\n",
      "Accompanying scores:  [24.815079733218194, 24.182898678566872, 20.792252047181538, 18.289684043404513, 16.409712548035792, 11.458476579280697, 9.9221860131898385, 9.212810621977086, 9.1012687391935376, 8.7727777300916809, 7.1840556582887247, 6.0941733106389666, 4.1874775069953785, 3.128091748156737]\n",
      "\n",
      "Adaptive Boosting:\n",
      "Pipeline(steps=[('scaler', MinMaxScaler(copy=True, feature_range=(0, 1))), ('feature', FeatureUnion(n_jobs=1,\n",
      "       transformer_list=[('select', SelectPercentile(percentile=85,\n",
      "         score_func=<function f_classif at 0x10b7b8a28>)), ('PCA', PCA(copy=True, n_components=1, whiten=False))],\n",
      "       transformer_weights=None)), ('algorithm', AdaBoostClassifier(algorithm='SAMME.R', base_estimator=None,\n",
      "          learning_rate=0.6, n_estimators=30, random_state=None))])\n",
      "\tAccuracy: 0.87127\tPrecision: 0.52271\tRecall: 0.39700\tF1: 0.45126\tF2: 0.41706\n",
      "\tTotal predictions: 15000\tTrue positives:  794\tFalse positives:  725\tFalse negatives: 1206\tTrue negatives: 12275\n",
      "\n",
      "None\n"
     ]
    }
   ],
   "source": [
    "from sklearn.ensemble import AdaBoostClassifier\n",
    "\n",
    "ada = AdaBoostClassifier(learning_rate=0.6, n_estimators=30)\n",
    "\n",
    " \n",
    "scaler = MinMaxScaler(feature_range=(0, 1), copy=True) \n",
    "percentile = SelectPercentile(percentile=85)\n",
    "pca = PCA(n_components=1)\n",
    "# For feature selection, use FeatureUnion to run PCA and and SelectPercentile simeltaneously \n",
    "combo = FeatureUnion([('select',percentile),('PCA',pca)])\n",
    "\n",
    "# Then create a pipeline to streamline the feature selection and algorithm\n",
    "steps = [('scaler',scaler),('feature',combo),('algorithm',ada)]\n",
    "pipeline = Pipeline(steps)\n",
    "\n",
    "# Code used to tune algorithm -- uncomment to run:\n",
    "#parameters = {'feature__select__percentile':[75,100],\n",
    "              #'feature__PCA__n_components':[1,2]}#,\n",
    "              #'algorithm__learning_rate':[.4,.5,.6],\n",
    "              #'algorithm__n_estimators':[20,25,30]}\n",
    "\n",
    "#cv = StratifiedShuffleSplit(labels, n_iter=100, random_state = 42)            \n",
    "#grid = GridSearchCV(pipeline, param_grid=parameters, scoring='f1',cv=cv)\n",
    "#grid.fit(features,labels)\n",
    "#clf_best = grid.best_estimator_\n",
    "\n",
    "ada_pipe= pipeline.fit(features,labels)\n",
    "\n",
    "selected = [features_list[i] for i in np.argsort(percentile.scores_)[::-1] if features_list[i]!='poi'][0:(int(len(features_list)*.85)-1)] \n",
    "scores = sorted(percentile.scores_,reverse=True)[0:(int(len(features_list)*.85)-1)]\n",
    "print ''\n",
    "print 'Features selected sorted by score:', selected\n",
    "print ''\n",
    "print 'Accompanying scores: ', scores\n",
    "print ''\n",
    "print 'Adaptive Boosting:'\n",
    "print test_classifier(ada_pipe, my_dataset, features_list, folds = 1000)\n"
   ]
  },
  {
   "cell_type": "markdown",
   "metadata": {},
   "source": [
    "#### Extreme Gradient Boosting"
   ]
  },
  {
   "cell_type": "code",
   "execution_count": 165,
   "metadata": {
    "collapsed": false
   },
   "outputs": [
    {
     "name": "stdout",
     "output_type": "stream",
     "text": [
      "XGBoost:\n",
      "Pipeline(steps=[('scaler', MinMaxScaler(copy=True, feature_range=(0, 1))), ('feature', FeatureUnion(n_jobs=1,\n",
      "       transformer_list=[('select', SelectPercentile(percentile=85,\n",
      "         score_func=<function f_classif at 0x10b7b8a28>)), ('PCA', PCA(copy=True, n_components=1, whiten=False))],\n",
      "       transform...stimators=595, nthread=-1,\n",
      "       objective='binary:logistic', seed=0, silent=True, subsample=0.9))])\n",
      "\tAccuracy: 0.86173\tPrecision: 0.47315\tRecall: 0.32600\tF1: 0.38603\tF2: 0.34762\n",
      "\tTotal predictions: 15000\tTrue positives:  652\tFalse positives:  726\tFalse negatives: 1348\tTrue negatives: 12274\n",
      "\n",
      "None\n"
     ]
    }
   ],
   "source": [
    "import xgboost as xgb\n",
    "\n",
    "xgb = xgb.XGBClassifier(learning_rate=.7,gamma=.1,min_child_weight=2,max_depth=1,subsample=.9,\n",
    "                       colsample_bytree=.9,n_estimators=595)\n",
    "\n",
    "scaler = MinMaxScaler(feature_range=(0, 1), copy=True)\n",
    "percentile = SelectPercentile(percentile=100)\n",
    "pca = PCA(n_components=3)\n",
    "# For feature selection, use FeatureUnion to run PCA and and SelectPercentile simeltaneously \n",
    "\n",
    "# Then create a pipeline to streamline the feature selection and algorithm\n",
    "steps = [('scaler',scaler),('feature',combo),('algorithm',xgb)]\n",
    "pipeline = Pipeline(steps)\n",
    "\n",
    "# Code used to tune the algorithm:\n",
    "#parameters = {'feature__select__percentile':[25,50,75,100],\n",
    "              #'feature__PCA__n_components':[1,2,3],\n",
    "              #'algorithm__learning_rate':[.7,.8],\n",
    "              #'algorithm__gamma':[.1,.2,.3],\n",
    "              #'algorithm__min_child_weight':[2,3],\n",
    "              #'algorithm__max_depth':[1,2],\n",
    "              #'algorithm__subsample':[.8,.9,1],\n",
    "              #'algorithm__colsample_bytree':[.9,1,1.1],\n",
    "              #'algorithm__n_estimators':[595,625]}\n",
    "\n",
    "#cv = StratifiedShuffleSplit(labels, n_iter=100, random_state = 42)            \n",
    "#grid = GridSearchCV(pipeline, param_grid=parameters, scoring='recall',cv=cv)\n",
    "#grid.fit(features,labels)\n",
    "#clf_best = grid.best_estimator_\n",
    "\n",
    "xgb_pipe= pipeline.fit(features,labels)\n",
    "\n",
    "print 'XGBoost:'\n",
    "print test_classifier(xgb_pipe, my_dataset, features_list, folds = 1000)\n"
   ]
  },
  {
   "cell_type": "markdown",
   "metadata": {},
   "source": [
    "#### Hybrid Classifier (Final)\n",
    "This classifier is a hybrid of some of the models above.  Each of the models \"votes\" on whether or not the person should be predicted to be a POI.  If a majority of the models included indicate a POI prediction, the final classifier will predict they are a POI.\n",
    "\n",
    "This approach allows us to take advantage of the strengths of several different models.  For instance, some models are better at recall and some are more precise.  The hybrid model will be relatively good at both.\n",
    "\n",
    "There is a small negative associated with this approach: time to run.  However, this is not a major issue for this problem since the model does not need to churn out predictions ultra quickly to be useful.  This would be much more of a concern for a machine learning model requiring real time predictions to be useful.  For instance, a model to identify potential opportunities in financial markets."
   ]
  },
  {
   "cell_type": "code",
   "execution_count": 163,
   "metadata": {
    "collapsed": false
   },
   "outputs": [
    {
     "name": "stdout",
     "output_type": "stream",
     "text": [
      "Hybrid Classifier:\n",
      "VotingClassifier(estimators=[('naive_bayes', Pipeline(steps=[('scaler', MinMaxScaler(copy=True, feature_range=(0, 1))), ('feature', FeatureUnion(n_jobs=1,\n",
      "       transformer_list=[('select', SelectPercentile(percentile=100,\n",
      "         score_func=<function f_classif at 0x10b7b8a28>)), ('PCA', PCA(copy=True, n_component...mators=595, nthread=-1,\n",
      "       objective='binary:logistic', seed=0, silent=True, subsample=0.9))]))],\n",
      "         voting='hard', weights=None)\n",
      "\tAccuracy: 0.83993\tPrecision: 0.40989\tRecall: 0.45600\tF1: 0.43172\tF2: 0.44597\n",
      "\tTotal predictions: 15000\tTrue positives:  912\tFalse positives: 1313\tFalse negatives: 1088\tTrue negatives: 11687\n",
      "\n",
      "None\n"
     ]
    }
   ],
   "source": [
    "from sklearn.ensemble import VotingClassifier\n",
    "\n",
    "clf = VotingClassifier(estimators=[('naive_bayes',nb_pipe),('k_neighbors',knn_pipe),\n",
    "                                   ('xgboost',xgb_pipe)])\n",
    "print 'Hybrid Classifier:'\n",
    "print test_classifier(clf, my_dataset, features_list, folds = 1000)\n",
    "\n"
   ]
  }
 ],
 "metadata": {
  "kernelspec": {
   "display_name": "Python 2",
   "language": "python",
   "name": "python2"
  },
  "language_info": {
   "codemirror_mode": {
    "name": "ipython",
    "version": 2
   },
   "file_extension": ".py",
   "mimetype": "text/x-python",
   "name": "python",
   "nbconvert_exporter": "python",
   "pygments_lexer": "ipython2",
   "version": "2.7.12"
  }
 },
 "nbformat": 4,
 "nbformat_minor": 0
}
